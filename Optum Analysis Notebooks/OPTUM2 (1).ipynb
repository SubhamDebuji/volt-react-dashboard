{
  "nbformat": 4,
  "nbformat_minor": 0,
  "metadata": {
    "colab": {
      "name": "OPTUM2.ipynb",
      "provenance": [],
      "collapsed_sections": []
    },
    "kernelspec": {
      "display_name": "Python 3",
      "name": "python3"
    },
    "language_info": {
      "name": "python"
    }
  },
  "cells": [
    {
      "cell_type": "code",
      "metadata": {
        "id": "PFjNejBem_4q"
      },
      "source": [
        "import pandas as pd\n",
        "import numpy as np\n",
        "import matplotlib.pyplot as plt\n",
        "import seaborn as sns\n",
        "%matplotlib inline"
      ],
      "execution_count": null,
      "outputs": []
    },
    {
      "cell_type": "code",
      "metadata": {
        "id": "tc0RR3g9nFmM",
        "colab": {
          "base_uri": "https://localhost:8080/"
        },
        "outputId": "98ab1f56-aa5b-42f5-a7ca-50b117bf5e39"
      },
      "source": [
        "from google.colab import drive\n",
        "drive.mount('/content/drive',force_remount=True)"
      ],
      "execution_count": null,
      "outputs": [
        {
          "output_type": "stream",
          "name": "stdout",
          "text": [
            "Mounted at /content/drive\n"
          ]
        }
      ]
    },
    {
      "cell_type": "code",
      "metadata": {
        "colab": {
          "base_uri": "https://localhost:8080/",
          "height": 370
        },
        "id": "4moyqOIynIHq",
        "outputId": "7bf4806f-6d2d-4190-b782-ffca4e656223"
      },
      "source": [
        "data = pd.read_csv('/content/drive/MyDrive/ML/optum/csv/conditions.csv')"
      ],
      "execution_count": null,
      "outputs": [
        {
          "output_type": "error",
          "ename": "FileNotFoundError",
          "evalue": "ignored",
          "traceback": [
            "\u001b[0;31m---------------------------------------------------------------------------\u001b[0m",
            "\u001b[0;31mFileNotFoundError\u001b[0m                         Traceback (most recent call last)",
            "\u001b[0;32m<ipython-input-3-d058665b409c>\u001b[0m in \u001b[0;36m<module>\u001b[0;34m()\u001b[0m\n\u001b[0;32m----> 1\u001b[0;31m \u001b[0mdata\u001b[0m \u001b[0;34m=\u001b[0m \u001b[0mpd\u001b[0m\u001b[0;34m.\u001b[0m\u001b[0mread_csv\u001b[0m\u001b[0;34m(\u001b[0m\u001b[0;34m'/content/drive/MyDrive/ML/optum/csv/conditions.csv'\u001b[0m\u001b[0;34m)\u001b[0m\u001b[0;34m\u001b[0m\u001b[0;34m\u001b[0m\u001b[0m\n\u001b[0m",
            "\u001b[0;32m/usr/local/lib/python3.7/dist-packages/pandas/io/parsers.py\u001b[0m in \u001b[0;36mread_csv\u001b[0;34m(filepath_or_buffer, sep, delimiter, header, names, index_col, usecols, squeeze, prefix, mangle_dupe_cols, dtype, engine, converters, true_values, false_values, skipinitialspace, skiprows, skipfooter, nrows, na_values, keep_default_na, na_filter, verbose, skip_blank_lines, parse_dates, infer_datetime_format, keep_date_col, date_parser, dayfirst, cache_dates, iterator, chunksize, compression, thousands, decimal, lineterminator, quotechar, quoting, doublequote, escapechar, comment, encoding, dialect, error_bad_lines, warn_bad_lines, delim_whitespace, low_memory, memory_map, float_precision)\u001b[0m\n\u001b[1;32m    686\u001b[0m     )\n\u001b[1;32m    687\u001b[0m \u001b[0;34m\u001b[0m\u001b[0m\n\u001b[0;32m--> 688\u001b[0;31m     \u001b[0;32mreturn\u001b[0m \u001b[0m_read\u001b[0m\u001b[0;34m(\u001b[0m\u001b[0mfilepath_or_buffer\u001b[0m\u001b[0;34m,\u001b[0m \u001b[0mkwds\u001b[0m\u001b[0;34m)\u001b[0m\u001b[0;34m\u001b[0m\u001b[0;34m\u001b[0m\u001b[0m\n\u001b[0m\u001b[1;32m    689\u001b[0m \u001b[0;34m\u001b[0m\u001b[0m\n\u001b[1;32m    690\u001b[0m \u001b[0;34m\u001b[0m\u001b[0m\n",
            "\u001b[0;32m/usr/local/lib/python3.7/dist-packages/pandas/io/parsers.py\u001b[0m in \u001b[0;36m_read\u001b[0;34m(filepath_or_buffer, kwds)\u001b[0m\n\u001b[1;32m    452\u001b[0m \u001b[0;34m\u001b[0m\u001b[0m\n\u001b[1;32m    453\u001b[0m     \u001b[0;31m# Create the parser.\u001b[0m\u001b[0;34m\u001b[0m\u001b[0;34m\u001b[0m\u001b[0;34m\u001b[0m\u001b[0m\n\u001b[0;32m--> 454\u001b[0;31m     \u001b[0mparser\u001b[0m \u001b[0;34m=\u001b[0m \u001b[0mTextFileReader\u001b[0m\u001b[0;34m(\u001b[0m\u001b[0mfp_or_buf\u001b[0m\u001b[0;34m,\u001b[0m \u001b[0;34m**\u001b[0m\u001b[0mkwds\u001b[0m\u001b[0;34m)\u001b[0m\u001b[0;34m\u001b[0m\u001b[0;34m\u001b[0m\u001b[0m\n\u001b[0m\u001b[1;32m    455\u001b[0m \u001b[0;34m\u001b[0m\u001b[0m\n\u001b[1;32m    456\u001b[0m     \u001b[0;32mif\u001b[0m \u001b[0mchunksize\u001b[0m \u001b[0;32mor\u001b[0m \u001b[0miterator\u001b[0m\u001b[0;34m:\u001b[0m\u001b[0;34m\u001b[0m\u001b[0;34m\u001b[0m\u001b[0m\n",
            "\u001b[0;32m/usr/local/lib/python3.7/dist-packages/pandas/io/parsers.py\u001b[0m in \u001b[0;36m__init__\u001b[0;34m(self, f, engine, **kwds)\u001b[0m\n\u001b[1;32m    946\u001b[0m             \u001b[0mself\u001b[0m\u001b[0;34m.\u001b[0m\u001b[0moptions\u001b[0m\u001b[0;34m[\u001b[0m\u001b[0;34m\"has_index_names\"\u001b[0m\u001b[0;34m]\u001b[0m \u001b[0;34m=\u001b[0m \u001b[0mkwds\u001b[0m\u001b[0;34m[\u001b[0m\u001b[0;34m\"has_index_names\"\u001b[0m\u001b[0;34m]\u001b[0m\u001b[0;34m\u001b[0m\u001b[0;34m\u001b[0m\u001b[0m\n\u001b[1;32m    947\u001b[0m \u001b[0;34m\u001b[0m\u001b[0m\n\u001b[0;32m--> 948\u001b[0;31m         \u001b[0mself\u001b[0m\u001b[0;34m.\u001b[0m\u001b[0m_make_engine\u001b[0m\u001b[0;34m(\u001b[0m\u001b[0mself\u001b[0m\u001b[0;34m.\u001b[0m\u001b[0mengine\u001b[0m\u001b[0;34m)\u001b[0m\u001b[0;34m\u001b[0m\u001b[0;34m\u001b[0m\u001b[0m\n\u001b[0m\u001b[1;32m    949\u001b[0m \u001b[0;34m\u001b[0m\u001b[0m\n\u001b[1;32m    950\u001b[0m     \u001b[0;32mdef\u001b[0m \u001b[0mclose\u001b[0m\u001b[0;34m(\u001b[0m\u001b[0mself\u001b[0m\u001b[0;34m)\u001b[0m\u001b[0;34m:\u001b[0m\u001b[0;34m\u001b[0m\u001b[0;34m\u001b[0m\u001b[0m\n",
            "\u001b[0;32m/usr/local/lib/python3.7/dist-packages/pandas/io/parsers.py\u001b[0m in \u001b[0;36m_make_engine\u001b[0;34m(self, engine)\u001b[0m\n\u001b[1;32m   1178\u001b[0m     \u001b[0;32mdef\u001b[0m \u001b[0m_make_engine\u001b[0m\u001b[0;34m(\u001b[0m\u001b[0mself\u001b[0m\u001b[0;34m,\u001b[0m \u001b[0mengine\u001b[0m\u001b[0;34m=\u001b[0m\u001b[0;34m\"c\"\u001b[0m\u001b[0;34m)\u001b[0m\u001b[0;34m:\u001b[0m\u001b[0;34m\u001b[0m\u001b[0;34m\u001b[0m\u001b[0m\n\u001b[1;32m   1179\u001b[0m         \u001b[0;32mif\u001b[0m \u001b[0mengine\u001b[0m \u001b[0;34m==\u001b[0m \u001b[0;34m\"c\"\u001b[0m\u001b[0;34m:\u001b[0m\u001b[0;34m\u001b[0m\u001b[0;34m\u001b[0m\u001b[0m\n\u001b[0;32m-> 1180\u001b[0;31m             \u001b[0mself\u001b[0m\u001b[0;34m.\u001b[0m\u001b[0m_engine\u001b[0m \u001b[0;34m=\u001b[0m \u001b[0mCParserWrapper\u001b[0m\u001b[0;34m(\u001b[0m\u001b[0mself\u001b[0m\u001b[0;34m.\u001b[0m\u001b[0mf\u001b[0m\u001b[0;34m,\u001b[0m \u001b[0;34m**\u001b[0m\u001b[0mself\u001b[0m\u001b[0;34m.\u001b[0m\u001b[0moptions\u001b[0m\u001b[0;34m)\u001b[0m\u001b[0;34m\u001b[0m\u001b[0;34m\u001b[0m\u001b[0m\n\u001b[0m\u001b[1;32m   1181\u001b[0m         \u001b[0;32melse\u001b[0m\u001b[0;34m:\u001b[0m\u001b[0;34m\u001b[0m\u001b[0;34m\u001b[0m\u001b[0m\n\u001b[1;32m   1182\u001b[0m             \u001b[0;32mif\u001b[0m \u001b[0mengine\u001b[0m \u001b[0;34m==\u001b[0m \u001b[0;34m\"python\"\u001b[0m\u001b[0;34m:\u001b[0m\u001b[0;34m\u001b[0m\u001b[0;34m\u001b[0m\u001b[0m\n",
            "\u001b[0;32m/usr/local/lib/python3.7/dist-packages/pandas/io/parsers.py\u001b[0m in \u001b[0;36m__init__\u001b[0;34m(self, src, **kwds)\u001b[0m\n\u001b[1;32m   2008\u001b[0m         \u001b[0mkwds\u001b[0m\u001b[0;34m[\u001b[0m\u001b[0;34m\"usecols\"\u001b[0m\u001b[0;34m]\u001b[0m \u001b[0;34m=\u001b[0m \u001b[0mself\u001b[0m\u001b[0;34m.\u001b[0m\u001b[0musecols\u001b[0m\u001b[0;34m\u001b[0m\u001b[0;34m\u001b[0m\u001b[0m\n\u001b[1;32m   2009\u001b[0m \u001b[0;34m\u001b[0m\u001b[0m\n\u001b[0;32m-> 2010\u001b[0;31m         \u001b[0mself\u001b[0m\u001b[0;34m.\u001b[0m\u001b[0m_reader\u001b[0m \u001b[0;34m=\u001b[0m \u001b[0mparsers\u001b[0m\u001b[0;34m.\u001b[0m\u001b[0mTextReader\u001b[0m\u001b[0;34m(\u001b[0m\u001b[0msrc\u001b[0m\u001b[0;34m,\u001b[0m \u001b[0;34m**\u001b[0m\u001b[0mkwds\u001b[0m\u001b[0;34m)\u001b[0m\u001b[0;34m\u001b[0m\u001b[0;34m\u001b[0m\u001b[0m\n\u001b[0m\u001b[1;32m   2011\u001b[0m         \u001b[0mself\u001b[0m\u001b[0;34m.\u001b[0m\u001b[0munnamed_cols\u001b[0m \u001b[0;34m=\u001b[0m \u001b[0mself\u001b[0m\u001b[0;34m.\u001b[0m\u001b[0m_reader\u001b[0m\u001b[0;34m.\u001b[0m\u001b[0munnamed_cols\u001b[0m\u001b[0;34m\u001b[0m\u001b[0;34m\u001b[0m\u001b[0m\n\u001b[1;32m   2012\u001b[0m \u001b[0;34m\u001b[0m\u001b[0m\n",
            "\u001b[0;32mpandas/_libs/parsers.pyx\u001b[0m in \u001b[0;36mpandas._libs.parsers.TextReader.__cinit__\u001b[0;34m()\u001b[0m\n",
            "\u001b[0;32mpandas/_libs/parsers.pyx\u001b[0m in \u001b[0;36mpandas._libs.parsers.TextReader._setup_parser_source\u001b[0;34m()\u001b[0m\n",
            "\u001b[0;31mFileNotFoundError\u001b[0m: [Errno 2] No such file or directory: '/content/drive/MyDrive/ML/optum/csv/conditions.csv'"
          ]
        }
      ]
    },
    {
      "cell_type": "code",
      "metadata": {
        "id": "5pMpUu72nQ8O"
      },
      "source": [
        "p_data = pd.read_csv('/content/drive/MyDrive/ML/optum/csv/patients.csv')"
      ],
      "execution_count": null,
      "outputs": []
    },
    {
      "cell_type": "code",
      "metadata": {
        "id": "OqemmtSbnT5M"
      },
      "source": [
        "import datetime\n",
        "p_data[\"BIRTH\"] = pd.to_datetime(p_data[\"BIRTHDATE\"])\n",
        "p_data[\"DEATH\"]=  pd.to_datetime(p_data[\"DEATHDATE\"])\n",
        "p_data[\"age\"] = ((pd.Timestamp.now().normalize() -p_data[\"BIRTH\"]).where(p_data[\"DEATHDATE\"].isnull(), other=p_data[\"DEATH\"]-p_data[\"BIRTH\"]))\n",
        "p_data[\"age\"]=(p_data[\"age\"]/365.2422)"
      ],
      "execution_count": null,
      "outputs": []
    },
    {
      "cell_type": "code",
      "metadata": {
        "id": "pnrdhBViqveB"
      },
      "source": [
        "p_data[\"age\"]=p_data[\"age\"].dt.days"
      ],
      "execution_count": null,
      "outputs": []
    },
    {
      "cell_type": "code",
      "metadata": {
        "id": "WijYsdz3nfal"
      },
      "source": [
        "df_merge_col = pd.merge(data,p_data, left_on='PATIENT', right_on='Id')\n"
      ],
      "execution_count": null,
      "outputs": []
    },
    {
      "cell_type": "code",
      "metadata": {
        "id": "sCzspKzSpf5s"
      },
      "source": [
        "df_merge_col = df_merge_col.loc[(df_merge_col[\"age\"] > 60) & (df_merge_col[\"RACE\"]!=\"white\") & (df_merge_col[\"RACE\"]!=\"native\")]"
      ],
      "execution_count": null,
      "outputs": []
    },
    {
      "cell_type": "code",
      "metadata": {
        "id": "hEsjsZNWqkzG"
      },
      "source": [
        "df_merge_col.groupby('ETHNICITY').size().plot(kind='pie', radius =2,autopct='%.2f')"
      ],
      "execution_count": null,
      "outputs": []
    },
    {
      "cell_type": "code",
      "metadata": {
        "id": "ZQs2BvyFrGoq"
      },
      "source": [
        "df_merge_col.groupby('RACE').size().plot(kind='pie', radius =3,autopct='%.2f')"
      ],
      "execution_count": null,
      "outputs": []
    },
    {
      "cell_type": "code",
      "metadata": {
        "id": "0A-yt8ZerfW8"
      },
      "source": [
        "df_merge_col.shape"
      ],
      "execution_count": null,
      "outputs": []
    },
    {
      "cell_type": "code",
      "metadata": {
        "id": "8AJ3chzOsSlv"
      },
      "source": [
        "df2= df_merge_col.loc[(df_merge_col[\"ETHNICITY\"]==\"hispanic\")]"
      ],
      "execution_count": null,
      "outputs": []
    },
    {
      "cell_type": "code",
      "metadata": {
        "id": "HTUldTgcuZR7"
      },
      "source": [
        "df_merge_col[\"age\"].hist(bins=25)\n",
        "plt.xlabel(\"age\")\n",
        "plt.ylabel(\"Count\")\n",
        "plt.title(\"Age_Distribution\")\n",
        "plt.show()"
      ],
      "execution_count": null,
      "outputs": []
    },
    {
      "cell_type": "code",
      "metadata": {
        "id": "NYzV9ekjvOYg"
      },
      "source": [
        "plt.figure(figsize=(8,6))\n",
        "sns.countplot(x=\"RACE\", data=df_merge_col,\n",
        "             hue=\"GENDER\")\n",
        "plt.show()"
      ],
      "execution_count": null,
      "outputs": []
    },
    {
      "cell_type": "code",
      "metadata": {
        "id": "06zkIGzmvU0M"
      },
      "source": [
        "names=data['DESCRIPTION'].unique().tolist()"
      ],
      "execution_count": null,
      "outputs": []
    },
    {
      "cell_type": "code",
      "metadata": {
        "id": "29SNoUJyv5fa"
      },
      "source": [
        " def extractServiceName(x):\n",
        "    if x in  names[:40]:\n",
        "        return x\n",
        "    else:\n",
        "        return ''\n",
        "df_merge_col['Extracted'] = df_merge_col[\"DESCRIPTION\"].apply(lambda x : extractServiceName(x))\n",
        "df_merge_col['Extracted'].replace('', np.nan, inplace=True)"
      ],
      "execution_count": null,
      "outputs": []
    },
    {
      "cell_type": "code",
      "metadata": {
        "id": "l0cfTvtrvks5"
      },
      "source": [
        "plt.figure(figsize=(15,8))\n",
        "sns.countplot(df_merge_col[\"Extracted\"])\n",
        "plt.xticks(rotation = 90)\n",
        "plt.title('Disease Count')\n",
        "plt.ylabel('Count')\n",
        "plt.xlabel('Disease Type')\n",
        "plt.show()"
      ],
      "execution_count": null,
      "outputs": []
    },
    {
      "cell_type": "code",
      "metadata": {
        "id": "ECs76VpZvqQC"
      },
      "source": [
        " def extractServiceName(x):\n",
        "    if x in  names[40:]:\n",
        "        return x\n",
        "    else:\n",
        "        return ''\n",
        "df_merge_col['Extracted2'] = df_merge_col[\"DESCRIPTION\"].apply(lambda x : extractServiceName(x))\n",
        "df_merge_col['Extracted2'].replace('', np.nan, inplace=True)"
      ],
      "execution_count": null,
      "outputs": []
    },
    {
      "cell_type": "code",
      "metadata": {
        "id": "bF_LF_7Mw2Fy"
      },
      "source": [
        "plt.figure(figsize=(15,8))\n",
        "sns.countplot(df_merge_col[\"Extracted2\"])\n",
        "plt.xticks(rotation = 90)\n",
        "plt.title('Disease Count')\n",
        "plt.ylabel('Count')\n",
        "plt.xlabel('Disease Type')\n",
        "plt.show()"
      ],
      "execution_count": null,
      "outputs": []
    },
    {
      "cell_type": "code",
      "metadata": {
        "id": "uRhVrNnvw3CN"
      },
      "source": [
        "plt.figure(figsize=(15,8))\n",
        "sns.countplot(df2[\"DESCRIPTION\"])\n",
        "plt.xticks(rotation = 90)\n",
        "plt.title('Disease Count')\n",
        "plt.ylabel('Count')\n",
        "plt.xlabel('Disease Type')\n",
        "plt.show()"
      ],
      "execution_count": null,
      "outputs": []
    },
    {
      "cell_type": "code",
      "metadata": {
        "id": "StYFez7ax-Cb"
      },
      "source": [
        "df2.shape"
      ],
      "execution_count": null,
      "outputs": []
    },
    {
      "cell_type": "code",
      "metadata": {
        "id": "Nq2y9HG8yLKY"
      },
      "source": [
        "datam = pd.read_csv('/content/drive/MyDrive/ML/optum/csv/medications.csv')"
      ],
      "execution_count": null,
      "outputs": []
    },
    {
      "cell_type": "code",
      "metadata": {
        "id": "mP6XTVRJ0dIo"
      },
      "source": [
        "datam.head()"
      ],
      "execution_count": null,
      "outputs": []
    },
    {
      "cell_type": "code",
      "metadata": {
        "id": "fETM79l11esC"
      },
      "source": [
        "p_data.head()"
      ],
      "execution_count": null,
      "outputs": []
    },
    {
      "cell_type": "code",
      "metadata": {
        "id": "nxG4Ax9tzCoX"
      },
      "source": [
        "df_mg = pd.merge(datam,p_data, left_on='PATIENT', right_on='Id')\n"
      ],
      "execution_count": null,
      "outputs": []
    },
    {
      "cell_type": "code",
      "metadata": {
        "id": "5NNaEFN5zVTi"
      },
      "source": [
        "df_mg= df_mg.loc[(df_mg[\"age\"] > 60) & (df_mg[\"RACE\"]!=\"white\") & (df_mg[\"RACE\"]!=\"native\")]"
      ],
      "execution_count": null,
      "outputs": []
    },
    {
      "cell_type": "code",
      "metadata": {
        "id": "y9V1ZbI2Fx3I"
      },
      "source": [
        "li=df_mg['REASONDESCRIPTION'].unique().tolist()"
      ],
      "execution_count": null,
      "outputs": []
    },
    {
      "cell_type": "code",
      "metadata": {
        "id": "8nzgIYK40XQy"
      },
      "source": [
        "df_mg.shape"
      ],
      "execution_count": null,
      "outputs": []
    },
    {
      "cell_type": "code",
      "metadata": {
        "id": "wlWsm2LW8_uR"
      },
      "source": [
        "group = df_mg.groupby('Id')\n",
        "df2 = group.apply(lambda x: x['REASONDESCRIPTION'].unique())\n"
      ],
      "execution_count": null,
      "outputs": []
    },
    {
      "cell_type": "code",
      "metadata": {
        "id": "8TOCgGXQEyEZ"
      },
      "source": [
        "df2.head()"
      ],
      "execution_count": null,
      "outputs": []
    },
    {
      "cell_type": "code",
      "metadata": {
        "id": "ufrHUZDDlv-K"
      },
      "source": [
        "df2.shape"
      ],
      "execution_count": null,
      "outputs": []
    },
    {
      "cell_type": "code",
      "metadata": {
        "id": "hvUbuFGk9SKQ"
      },
      "source": [
        "df2 = df2.apply(pd.Series)"
      ],
      "execution_count": null,
      "outputs": []
    },
    {
      "cell_type": "code",
      "metadata": {
        "id": "n0e7Q7dl-6_c"
      },
      "source": [
        "print(li)"
      ],
      "execution_count": null,
      "outputs": []
    },
    {
      "cell_type": "code",
      "metadata": {
        "id": "9cF80TgC89im"
      },
      "source": [
        "\n",
        "d={}\n",
        "l=len(li)"
      ],
      "execution_count": null,
      "outputs": []
    },
    {
      "cell_type": "code",
      "metadata": {
        "id": "0yaetf_XAXP7"
      },
      "source": [
        "len(d)"
      ],
      "execution_count": null,
      "outputs": []
    },
    {
      "cell_type": "code",
      "metadata": {
        "id": "EL-WbzmajEqr"
      },
      "source": [
        "for i in li:\n",
        "  d[i]=0\n",
        "  print(d[i])\n"
      ],
      "execution_count": null,
      "outputs": []
    },
    {
      "cell_type": "code",
      "metadata": {
        "id": "MNYg76uYk8dD"
      },
      "source": [
        "h=0\n",
        "j=0\n",
        "for i in li:\n",
        "  for h in range(0,51):\n",
        "      for j in range(0,7):\n",
        "        if i==df2.iloc[h,j]:\n",
        "         d[i]=d[i]+1\n",
        "     "
      ],
      "execution_count": null,
      "outputs": []
    },
    {
      "cell_type": "code",
      "metadata": {
        "id": "Q7UazIdjj77g"
      },
      "source": [
        "new=pd.Series(d).to_frame(\"Extr\")\n",
        "new.head()\n"
      ],
      "execution_count": null,
      "outputs": []
    },
    {
      "cell_type": "code",
      "metadata": {
        "id": "D8WuspfCIKli"
      },
      "source": [
        "new[\"Description\"]=li\n"
      ],
      "execution_count": null,
      "outputs": []
    },
    {
      "cell_type": "code",
      "metadata": {
        "id": "KoBLzpxZKdO7"
      },
      "source": [
        "new.reset_index(inplace=True,drop=True)\n",
        "new.head(5)"
      ],
      "execution_count": null,
      "outputs": []
    },
    {
      "cell_type": "code",
      "metadata": {
        "id": "OVQy5riIFnyv"
      },
      "source": [
        "sns.barplot(x=\"Description\", y=\"Extr\", data=new)\n",
        "plt.xticks(rotation = 90)\n",
        "plt.title('Disease Count')\n",
        "plt.ylabel('Count')\n",
        "plt.xlabel('Disease Type')\n",
        "plt.show()"
      ],
      "execution_count": null,
      "outputs": []
    },
    {
      "cell_type": "code",
      "metadata": {
        "id": "iY__TA-Z0VLD"
      },
      "source": [
        "df_mg.groupby('RACE').size().plot(kind='pie', radius =3,autopct='%.2f')"
      ],
      "execution_count": null,
      "outputs": []
    },
    {
      "cell_type": "code",
      "metadata": {
        "id": "4biCtyRi2LsO"
      },
      "source": [
        "datam = pd.read_csv('/content/drive/MyDrive/ML/optum/csv/procedures.csv')"
      ],
      "execution_count": null,
      "outputs": []
    },
    {
      "cell_type": "code",
      "metadata": {
        "id": "et7GwbjR2pdB"
      },
      "source": [
        "datam.head()"
      ],
      "execution_count": null,
      "outputs": []
    },
    {
      "cell_type": "code",
      "metadata": {
        "id": "se9hESxC2s7d"
      },
      "source": [
        "datam.shape"
      ],
      "execution_count": null,
      "outputs": []
    },
    {
      "cell_type": "code",
      "metadata": {
        "id": "CSxc24cO2yc2"
      },
      "source": [
        "df_mg2 = pd.merge(datam,p_data, left_on='PATIENT', right_on='Id')\n"
      ],
      "execution_count": null,
      "outputs": []
    },
    {
      "cell_type": "code",
      "metadata": {
        "id": "9OLj7byt3MN7"
      },
      "source": [
        "df_mg2.shape"
      ],
      "execution_count": null,
      "outputs": []
    },
    {
      "cell_type": "code",
      "metadata": {
        "id": "8R8S3Zlh3OJb"
      },
      "source": [
        "df_mg2= df_mg2.loc[(df_mg2[\"age\"] > 60) & (df_mg2[\"RACE\"]!=\"white\") & (df_mg2[\"RACE\"]!=\"native\")]"
      ],
      "execution_count": null,
      "outputs": []
    },
    {
      "cell_type": "code",
      "metadata": {
        "id": "aKrQA0Ln3TSZ"
      },
      "source": [
        "df_mg2.shape"
      ],
      "execution_count": null,
      "outputs": []
    },
    {
      "cell_type": "code",
      "metadata": {
        "id": "P7wbfM5D3dcw"
      },
      "source": [
        ""
      ],
      "execution_count": null,
      "outputs": []
    },
    {
      "cell_type": "code",
      "metadata": {
        "id": "dd7P4IWl77jp"
      },
      "source": [
        "df_mg.drop_duplicates(subset=[\"Id\"])\n"
      ],
      "execution_count": null,
      "outputs": []
    },
    {
      "cell_type": "code",
      "metadata": {
        "id": "8lRVTRF578B3"
      },
      "source": [
        "plt.figure(figsize=(15,8))\n",
        "sns.countplot(df_mg2[\"REASONDESCRIPTION\"])\n",
        "plt.xticks(rotation = 90)\n",
        "plt.title('Disease Count')\n",
        "plt.ylabel('Count')\n",
        "plt.xlabel('Disease Type')\n",
        "plt.show()"
      ],
      "execution_count": null,
      "outputs": []
    },
    {
      "cell_type": "code",
      "metadata": {
        "id": "MdrKp5cl7_Kp"
      },
      "source": [
        "med_data = pd.read_csv('/content/drive/MyDrive/ML/optum/csv/medications.csv')"
      ],
      "execution_count": null,
      "outputs": []
    },
    {
      "cell_type": "code",
      "metadata": {
        "id": "dtJz8j72CNgx"
      },
      "source": [
        "med_data.head()"
      ],
      "execution_count": null,
      "outputs": []
    },
    {
      "cell_type": "code",
      "metadata": {
        "id": "h-G5URbnDCNh"
      },
      "source": [
        "new.head()"
      ],
      "execution_count": null,
      "outputs": []
    },
    {
      "cell_type": "code",
      "metadata": {
        "id": "CMX8euUaDMZn"
      },
      "source": [
        " def extractServiceName(x):\n",
        "    if x in  new[\"Description\"]:\n",
        "        return x\n",
        "    else:\n",
        "        return ''\n",
        "med_data['Extracted'] = med_data[\"REASONDESCRIPTION\"].apply(lambda x : extractServiceName(x))\n",
        "med_data['Extracted'].replace('', np.nan, inplace=True)"
      ],
      "execution_count": null,
      "outputs": []
    },
    {
      "cell_type": "code",
      "metadata": {
        "id": "mUherSpjOBz-"
      },
      "source": [
        "md_merge = pd.merge(new,df_mg, left_on='Description', right_on='REASONDESCRIPTION')\n",
        "md_merge.head()"
      ],
      "execution_count": null,
      "outputs": []
    },
    {
      "cell_type": "code",
      "metadata": {
        "id": "4IdGi1MUOmci"
      },
      "source": [
        "md_merge.shape"
      ],
      "execution_count": null,
      "outputs": []
    },
    {
      "cell_type": "code",
      "metadata": {
        "id": "gPcBpvj_QHcz"
      },
      "source": [
        "df2.head()"
      ],
      "execution_count": null,
      "outputs": []
    },
    {
      "cell_type": "code",
      "metadata": {
        "id": "ULP72HkPQuca"
      },
      "source": [
        "IDS=md_merge['Id'].unique().tolist()"
      ],
      "execution_count": null,
      "outputs": []
    },
    {
      "cell_type": "code",
      "metadata": {
        "id": "GqZPblGEu592"
      },
      "source": [
        "md_merge = md_merge.dropna(subset=['START'])\n",
        "md_merge = md_merge.dropna(subset=['STOP'])\n",
        "md_merge = md_merge.dropna(subset=['Description'])\n",
        "md_merge.head()\n",
        "\n",
        "\n"
      ],
      "execution_count": null,
      "outputs": []
    },
    {
      "cell_type": "code",
      "metadata": {
        "id": "UUKRXnWqSig3"
      },
      "source": [
        "md_merge[\"START\"] = pd.to_datetime(md_merge[\"START\"])\n",
        "md_merge[\"STOP\"]=  pd.to_datetime(md_merge[\"STOP\"])\n",
        "md_merge[\"daysm\"] = ((pd.Timestamp.now().normalize() -md_merge[\"BIRTH\"]).where(md_merge[\"STOP\"].isnull(), other=md_merge[\"STOP\"]-md_merge[\"START\"]))\n",
        "md_merge[\"daysm\"]=md_merge[\"daysm\"].dt.days"
      ],
      "execution_count": null,
      "outputs": []
    },
    {
      "cell_type": "code",
      "metadata": {
        "id": "mv7IU6cQzwf8"
      },
      "source": [
        "pchart={}\n",
        "for i in IDS:\n",
        "  pchart[i]=0"
      ],
      "execution_count": null,
      "outputs": []
    },
    {
      "cell_type": "code",
      "metadata": {
        "id": "ZozQniJj0HGM"
      },
      "source": [
        "dchart={}\n",
        "for j in dchart:\n",
        "  dchart[i]=0"
      ],
      "execution_count": null,
      "outputs": []
    },
    {
      "cell_type": "code",
      "metadata": {
        "id": "ZwIuxu9w0fM7"
      },
      "source": [
        "\n",
        "\n",
        "\n",
        "chrt = {'PATIENT': [''],  'DESCRIPTION': []}\n"
      ],
      "execution_count": null,
      "outputs": []
    },
    {
      "cell_type": "code",
      "metadata": {
        "id": "hD3PVKws1Er7"
      },
      "source": [
        "chrt=md_merge.filter([\"PATIENT\",\"DESCRIPTION\",\"REASONDESCRIPTION\",\"age\",\"daysm\"])\n",
        "chrt[\"rf\"]=0"
      ],
      "execution_count": null,
      "outputs": []
    },
    {
      "cell_type": "code",
      "metadata": {
        "id": "dyqj8s1X14BF"
      },
      "source": [
        "chrt.head()\n",
        "\n"
      ],
      "execution_count": null,
      "outputs": []
    },
    {
      "cell_type": "code",
      "metadata": {
        "id": "KkEobKr81lqZ"
      },
      "source": [
        "chrt=chrt.drop_duplicates([\"PATIENT\",\"REASONDESCRIPTION\"])\n",
        "chrt.head(5)\n"
      ],
      "execution_count": null,
      "outputs": []
    },
    {
      "cell_type": "code",
      "metadata": {
        "id": "KWabpwqE3-_J"
      },
      "source": [
        "chrt[\"PATIENT\"].nunique()\n",
        "chrt.shape"
      ],
      "execution_count": null,
      "outputs": []
    },
    {
      "cell_type": "code",
      "metadata": {
        "id": "UO1LT620VmDC"
      },
      "source": [
        "rf=0\n",
        "for i in IDS:\n",
        " idfilter=md_merge.loc[md_merge[\"PATIENT\"]==i]\n",
        " for j in li:\n",
        "   idf2=idfilter.loc[idfilter[\"Description\"]==j]\n",
        "   if idf2.empty == False:\n",
        "    print(idf2.head(5))\n",
        "    a=idf2.daysm.sum()\n",
        "    b=idf2.DISPENSES.sum()\n",
        "    rf=a/b\n",
        "    select_indices = list(np.where(chrt[\"PATIENT\"] == i)[0])\n",
        "    for k in select_indices:\n",
        "     print(rf)\n",
        "     chrt['rf']=chrt['rf'].map(lambda x:rf if chrt.iloc[k].PATIENT==i and chrt.iloc[k].REASONDESCRIPTION==j else x)\n"
      ],
      "execution_count": null,
      "outputs": []
    },
    {
      "cell_type": "code",
      "metadata": {
        "id": "8ovBpoPXFivz"
      },
      "source": [
        "chrt['rf']=chrt['rf'].map(lambda x:rf if chrt.iloc[k].PATIENT==i and chrt.iloc[k].REASONDESCRIPTION==j else x)\n"
      ],
      "execution_count": null,
      "outputs": []
    },
    {
      "cell_type": "code",
      "metadata": {
        "id": "xdLZ3Q6m5Zhp"
      },
      "source": [
        "chrt.head(5)"
      ],
      "execution_count": null,
      "outputs": []
    },
    {
      "cell_type": "code",
      "metadata": {
        "id": "QG6XQcOLGUBB"
      },
      "source": [
        ""
      ],
      "execution_count": null,
      "outputs": []
    },
    {
      "cell_type": "code",
      "metadata": {
        "id": "CQqF7gtJecUZ"
      },
      "source": [
        "sns.barplot(x=\"PATIENT\", y=\"rf\", data=chrt[:40])\n",
        "plt.xticks(rotation = 90)\n",
        "plt.title('risk adherence')\n",
        "plt.ylabel('Count')\n",
        "plt.xlabel('patient type')\n",
        "plt.show()"
      ],
      "execution_count": null,
      "outputs": []
    },
    {
      "cell_type": "code",
      "metadata": {
        "id": "Wt3eZ8TCe_mS"
      },
      "source": [
        "sns.barplot(x=\"PATIENT\", y=\"rf\", data=chrt[40:80])\n",
        "plt.xticks(rotation = 90)\n",
        "plt.title('risk adherence')\n",
        "plt.ylabel('Count')\n",
        "plt.xlabel('patient type')\n",
        "plt.show()"
      ],
      "execution_count": null,
      "outputs": []
    },
    {
      "cell_type": "code",
      "metadata": {
        "id": "_bWyVE0PuY7t"
      },
      "source": [
        "sns.barplot(x=\"PATIENT\", y=\"rf\", data=chrt[80:])\n",
        "plt.xticks(rotation = 90)\n",
        "plt.title('risk adherence')\n",
        "plt.ylabel('Count')\n",
        "plt.xlabel('patient type')\n",
        "plt.show()"
      ],
      "execution_count": null,
      "outputs": []
    },
    {
      "cell_type": "code",
      "metadata": {
        "id": "9jsYsogkuhla"
      },
      "source": [
        "idf2=idfilter.loc[idfilter[\"Description\"]==\"Hyperlipidemia\"]"
      ],
      "execution_count": null,
      "outputs": []
    },
    {
      "cell_type": "code",
      "metadata": {
        "id": "To_isk9Lvl1t"
      },
      "source": [
        "idf2.head()"
      ],
      "execution_count": null,
      "outputs": []
    },
    {
      "cell_type": "code",
      "metadata": {
        "id": "txSdd1P8wORU"
      },
      "source": [
        "a=idf2.daysm.sum()\n",
        "b=idf2.DISPENSES.sum()\n",
        "rf=a/b"
      ],
      "execution_count": null,
      "outputs": []
    },
    {
      "cell_type": "code",
      "metadata": {
        "id": "PUelaFbTwuNl"
      },
      "source": [
        "Pat[idfilter['patiennt']]"
      ],
      "execution_count": null,
      "outputs": []
    }
  ]
}